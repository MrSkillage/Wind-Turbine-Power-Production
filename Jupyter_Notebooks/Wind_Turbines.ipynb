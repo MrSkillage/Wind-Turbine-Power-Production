{
 "cells": [
  {
   "cell_type": "markdown",
   "metadata": {},
   "source": [
    "# Welcome to the Wind Turbine Power Production Algorithm Walkthrough"
   ]
  },
  {
   "cell_type": "markdown",
   "metadata": {},
   "source": [
    "### Step 1: Read and Parse"
   ]
  },
  {
   "cell_type": "markdown",
   "metadata": {},
   "source": [
    "The first step is to read in the text file \"Power_Production_Dataset.txt\" and then parse the text. We will parse this text at every \"\\n\" which represents a newline. This will make it easier to read and manipulate the data. This will be achieved by using pythons import csv (Comma Separated Values)."
   ]
  },
  {
   "cell_type": "code",
   "execution_count": 33,
   "metadata": {},
   "outputs": [],
   "source": [
    "import csv\n",
    "\n",
    "path = \"..\\Dataset\\Power_Production_Dataset.txt\" # Text files path\n",
    "file = open(path, newline='') # Open file for reading spliting lines at the end\n",
    "reader = csv.reader(file) # read file into reader\n",
    "header = next(reader) # The first line is a headeSr\n",
    "data = [] # Create list called data\n",
    "\n",
    "for row in reader:\n",
    "    # row = [Speed, Power]\n",
    "    speed = float(row[0])\n",
    "    power = float(row[1])\n",
    "    \n",
    "    # Append to data\n",
    "    data.append([speed, power])"
   ]
  },
  {
   "cell_type": "code",
   "execution_count": 50,
   "metadata": {},
   "outputs": [
    {
     "name": "stdout",
     "output_type": "stream",
     "text": [
      "['speed', 'power']\n",
      "[0.0, 0.0]\n",
      "[0.125, 0.0]\n"
     ]
    }
   ],
   "source": [
    "print(header)\n",
    "print(data[0])\n",
    "print(data[1])"
   ]
  },
  {
   "cell_type": "code",
   "execution_count": 60,
   "metadata": {
    "scrolled": false
   },
   "outputs": [],
   "source": [
    "import numpy as np\n",
    "speedData = []\n",
    "\n",
    "for i in range(len(data)):\n",
    "    # We will iterate over the data but take only the first index[0] for speed values\n",
    "    speedData.append(data[i][0])"
   ]
  },
  {
   "cell_type": "code",
   "execution_count": 70,
   "metadata": {},
   "outputs": [
    {
     "data": {
      "text/plain": [
       "12.590398000000002"
      ]
     },
     "execution_count": 70,
     "metadata": {},
     "output_type": "execute_result"
    }
   ],
   "source": [
    "# Get the mean of the speedData\n",
    "np.mean(speedData)"
   ]
  },
  {
   "cell_type": "markdown",
   "metadata": {},
   "source": [
    "## List size using 'system'\n",
    "Using sys we can look at how much space in bytes the list of data \"ListP\" and the tuple of data \"TupleP\" are different."
   ]
  },
  {
   "cell_type": "code",
   "execution_count": 22,
   "metadata": {},
   "outputs": [],
   "source": [
    "def read_Data_Into_List(data, index, myList=[]):\n",
    "    \"\"\"\n",
    "    Function used to take in the data set and then parse\n",
    "    the set into lists\n",
    "    \"\"\"\n",
    "    with open (data, \"r\") as txt:\n",
    "        # Skips first line cutting-out category headers \n",
    "        next(txt)\n",
    "        for line in txt:\n",
    "            fields = line.split(\",\")\n",
    "            \n",
    "            myList.append(fields[index].strip(\"\\n\"))\n",
    "            \n",
    "    return myList"
   ]
  },
  {
   "cell_type": "code",
   "execution_count": null,
   "metadata": {},
   "outputs": [],
   "source": []
  }
 ],
 "metadata": {
  "kernelspec": {
   "display_name": "Python 3",
   "language": "python",
   "name": "python3"
  },
  "language_info": {
   "codemirror_mode": {
    "name": "ipython",
    "version": 3
   },
   "file_extension": ".py",
   "mimetype": "text/x-python",
   "name": "python",
   "nbconvert_exporter": "python",
   "pygments_lexer": "ipython3",
   "version": "3.8.3"
  }
 },
 "nbformat": 4,
 "nbformat_minor": 4
}
